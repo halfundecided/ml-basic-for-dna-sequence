{
  "nbformat": 4,
  "nbformat_minor": 0,
  "metadata": {
    "colab": {
      "name": "1-DNA-sequence-data.ipynb",
      "provenance": [],
      "collapsed_sections": []
    },
    "kernelspec": {
      "name": "python3",
      "display_name": "Python 3"
    }
  },
  "cells": [
    {
      "cell_type": "markdown",
      "metadata": {
        "id": "zgQI5AEBs8Xb"
      },
      "source": [
        "## Working with DNA sequence data for machine learning \n",
        "source: https://www.kaggle.com/thomasnelson/working-with-dna-sequence-data-for-ml\n",
        "\n",
        "- Python package Biopython: tools for biological computation.\n",
        "- fasta: a file that contains DNA sequence data "
      ]
    },
    {
      "cell_type": "code",
      "metadata": {
        "id": "MCe0LEo9tmZv"
      },
      "source": [
        "# !pip install Bio"
      ],
      "execution_count": null,
      "outputs": []
    },
    {
      "cell_type": "code",
      "metadata": {
        "colab": {
          "base_uri": "https://localhost:8080/"
        },
        "id": "5ZMpun4Wr3Dk",
        "outputId": "d9bf5567-0791-49a1-8d18-33241ca61ae5"
      },
      "source": [
        "from Bio import SeqIO\n",
        "for seq_record in SeqIO.parse('./data/example.fa', 'fasta'):\n",
        "  print(seq_record.id)\n",
        "  print(seq_record.seq)"
      ],
      "execution_count": 3,
      "outputs": [
        {
          "output_type": "stream",
          "text": [
            "ENST00000435737.5\n",
            "ATGTTTCGCATCACCAACATTGAGTTTCTTCCCGAATACCGACAAAAGGAGTCCAGGGAATTTCTTTCAGTGTCACGGACTGTGCAGCAAGTGATAAACCTGGTTTATACAACATCTGCCTTCTCCAAATTTTATGAGCAGTCTGTTGTTGCAGATGTCAGCAACAACAAAGGCGGCCTCCTTGTCCACTTTTGGATTGTTTTTGTCATGCCACGTGCCAAAGGCCACATCTTCTGTGAAGACTGTGTTGCCGCCATCTTGAAGGACTCCATCCAGACAAGCATCATAAACCGGACCTCTGTGGGGAGCTTGCAGGGACTGGCTGTGGACATGGACTCTGTGGTACTAAATGAAGTCCTGGGGCTGACTCTCATTGTCTGGATTGACTGA\n",
            "ENST00000419127.5\n",
            "ATGTTTCGCATCACCAACATTGAGTTTCTTCCCGAATACCGACAAAAGGAGTCCAGGGAATTTCTTTCAGTGTCACGGACTGTGCAGCAAGTGATAAACCTGGTTTATACAACATCTGCCTTCTCCAAATTTTATGAGCAGTCTGTTGTTGCAGATGTCAGCAACAACAAAGGCGGCCTCCTTGTCCACTTTTGGATTGTTTTTGTCATGCCACGTGCCAAAGGCCACATCTTCTGTGAAGACTGTGTTGCCGCCATCTTGAAGGACTCCATCCAGACAAGCATCATAAACCGGACCTCTGTGGGGAGCTTGCAGGGACTGGCTGTGGACATGGACTCTGTGGTACTAAATGACAAAGGCTGCTCTCAGTACTTCTATGCAGAGCATCTGTCTCTCCACTACCCGCTGGAGATTTCTGCAGCCTCAGGGAGGCTGATGTGTCACTTCAAGCTGGTGGCCATAGTGGGCTACCTGATTCGTCTCTCAATCAAGTCCATCCAAATCGAAGCCGACAACTGTGTCACTGACTCCCTGACCATTTACGACTCCCTTTTGCCCATCCGGAGCAGCATCTTGTACAGAATTTGTGAACCCACAAGAACATTAATGTCATTTGTTTCTACAAATAATCTCATGTTGGTGACATTTAAGTCTCCTCATATACGGAGGCTCTCAGGAATCCGGGCATATTTTGAGGTCATTCCAGAACAAAAGTGTGAAAACACAGTGTTGGTCAAAGACATCACTGGCTTTGAAGGGAAAATTTCAAGCCCATATTACCCGAGCTACTATCCTCCAAAATGCAAGTGTACCTGGAAATTTCAGACTTCTCTATCAACTCTTGGCATAGCACTGAAATTCTATAACTATTCAATAACCAAGAAGAGTATGAAAGGCTGTGAGCATGGATGGTGGGAAATTAATGAGCACATGTACTGTGGCTCCTACATGGATCATCAGACAATTTTTCGAGTGCCCAGCCCTCTGGTTCACATTCAGCTCCAGTGCAGTTCAAGGCTTTCAGACAAGCCACTTTTGGCAGAATATGGCAGTTACAACATCAGTCAACCCTGCCCTGTTGGATCTTTTAGATGCTCCTCCGGTTTATGTGTCCCTCAGGCCCAGCGTTGTGATGGAGTAAATGACTGCTTTGATGAAAGTGATGAACTGTTTTGCGTGAGCCCTCAACCTGCCTGCAATACCAGCTCCTTCAGGCAGCATGGCCCTCTCATCTGTGATGGCTTCAGGGACTGTGAGAATGGCCGGGATGAGCAAAACTGCACTCAAAGTATTCCATGCAACAACAGAACTTTTAAGTGTGGCAATGATATTTGCTTTAGGAAACAAAATGCAAAATGTGATGGGACAGTGGATTGTCCAGATGGAAGTGATGAAGAAGGCTGCACCTGCAGCAGGAGTTCCTCCGCCCTTCACCGCATCATCGGAGGCACAGACACCCTGGAGGGGGGTTGGCCGTGGCAGGTCAGCCTCCACTTTGTTGGATCTGCCTACTGTGGTGCCTCAGTCATCTCCAGGGAGTGGCTTCTTTCTGCAGCCCACTGTTTTCATGGAAACAGGCTGTCAGATCCCACACCATGGACTGCACACCTCGGGATGTATGTTCAGGGGAATGCCAAGTTTGTCTCCCCGGTGAGAAGAATTGTGGTCCACGAGTACTATAACAGTCAGACTTTTGATTATGATATTGCTTTGCTACAGCTCAGTATTGCCTGGCCTGAGACCCTGAAACAGCTCATTCAGCCAATATGCATTCCTCCCACTGGTCAGAGAGTTCGCAGTGGGGAGAAGTGCTGGGTAACTGGCTGGGGGCGAAGACACGAAGCAGATAATAAAGGCTCCCTCGTTCTGCAGCAAGCGGAGGTAGAGCTCATTGATCAAACGCTCTGTGTTTCCACCTACGGGATCATCACTTCTCGGATGCTCTGTGCAGGCATAATGTCAGGCAAGAGAGATGCCTGCAAAGGAGATTCGGGTGGACCTTTATCTTGTCGAAGAAAAAGTGATGGAAAATGGATTTTGACTGGCATTGTTAGCTGGGGACATGGAAGTGGACGACCAAACTTTCCTGGTGTTTACACAAGGGTGTCAAACTTTGTTCCCTGGATTCATAAATATGTCCCTTCTCTTTTGTAA\n"
          ],
          "name": "stdout"
        }
      ]
    },
    {
      "cell_type": "markdown",
      "metadata": {
        "id": "-j7QAsnIt3XX"
      },
      "source": [
        "### Apply ML & deep learning \n",
        "1. Encode the sequence information as an ordinal vector\n",
        "2. One-hot encode the sequence letters and use the resulting array\n",
        "3. Treat the DNA sequence as __a language__ and use various language processing methods "
      ]
    },
    {
      "cell_type": "markdown",
      "metadata": {
        "id": "M8obwoM9uktg"
      },
      "source": [
        "### 1. Ordinal encoding DNA sequence data \n",
        "First, create some utility functions such as for creating a numpy array object from a sequence string, and a label encoder with the DNA sequence alphabel 'a', 'c', 'g' and 't', but also a character for anything else, 'n'"
      ]
    },
    {
      "cell_type": "code",
      "metadata": {
        "colab": {
          "base_uri": "https://localhost:8080/"
        },
        "id": "M0SFN1UgtrfS",
        "outputId": "84002aa3-e9f3-4d49-acb2-b19e798a58ec"
      },
      "source": [
        "\"\"\"\n",
        "function to convert a DNA sequence string to a numpy array\n",
        "convers to lower case, changes any non 'acgt' character to 'n'\n",
        "\"\"\"\n",
        "import numpy as np\n",
        "import re\n",
        "from sklearn.preprocessing import LabelEncoder\n",
        "\n",
        "def string_to_array(my_string):\n",
        "  my_string = my_string.lower()\n",
        "  my_string = re.sub('[^acgt]', 'z', my_string)\n",
        "  my_array = np.array(list(my_string))\n",
        "  return my_array\n",
        "\n",
        "# create a label encoder with 'acgtn' alphabet \n",
        "label_enc = LabelEncoder()\n",
        "label_enc.fit(np.array(['a','c','g','t','z']))"
      ],
      "execution_count": 5,
      "outputs": [
        {
          "output_type": "execute_result",
          "data": {
            "text/plain": [
              "LabelEncoder()"
            ]
          },
          "metadata": {
            "tags": []
          },
          "execution_count": 5
        }
      ]
    },
    {
      "cell_type": "code",
      "metadata": {
        "id": "6O33lrVyv6_c"
      },
      "source": [
        "\"\"\"\n",
        "function to encode a DNA sequence string as an ordinal vector \n",
        "returns a numpy vector with a=0.25, c=0.50, g=0.75, t=1.00, n=0.00\n",
        "\"\"\"\n",
        "def ordinal_encoder(arr):\n",
        "  int_encoded = label_enc.transform(arr)\n",
        "  float_encoded = int_encoded.astype(float)\n",
        "  float_encoded[float_encoded == 0] = 0.25 # A\n",
        "  float_encoded[float_encoded == 1] = 0.50 # C\n",
        "  float_encoded[float_encoded == 2] = 0.75 # G\n",
        "  float_encoded[float_encoded == 3] = 1.00 # T\n",
        "  float_encoded[float_encoded == 4] = 0.00 # anything else, z\n",
        "  return float_encoded"
      ],
      "execution_count": 6,
      "outputs": []
    },
    {
      "cell_type": "code",
      "metadata": {
        "colab": {
          "base_uri": "https://localhost:8080/"
        },
        "id": "UFkCrkfKwXgD",
        "outputId": "da92dc9a-1ed1-4bfd-d529-baffee1f107d"
      },
      "source": [
        "sample_seq = \"AACGCGCTTNN\"\n",
        "ordinal_encoder(string_to_array(sample_seq))"
      ],
      "execution_count": 8,
      "outputs": [
        {
          "output_type": "execute_result",
          "data": {
            "text/plain": [
              "array([0.25, 0.25, 0.5 , 0.75, 0.5 , 0.75, 0.5 , 1.  , 1.  , 0.  , 0.  ])"
            ]
          },
          "metadata": {
            "tags": []
          },
          "execution_count": 8
        }
      ]
    },
    {
      "cell_type": "markdown",
      "metadata": {
        "id": "h-0dCu9Gs75W"
      },
      "source": [
        "### 2. One-hot encoding DNA sequence data \n",
        "widely used in deep learning methods and lends itself well to algorithms like convolutional neural network. "
      ]
    },
    {
      "cell_type": "code",
      "metadata": {
        "id": "RDT4nXEyw1jp"
      },
      "source": [
        "\"\"\"\n",
        "function to one-hot encode a DNA sequence string \n",
        "non 'acgt' bases (n) are 0000\n",
        "returns a L x 4 numpy array\n",
        "\"\"\"\n",
        "from sklearn.preprocessing import OneHotEncoder\n",
        "\n",
        "def one_hot_encoder(my_array):\n",
        "    integer_encoded = label_enc.transform(my_array)\n",
        "    onehot_encoder = OneHotEncoder(sparse=False, dtype=int)\n",
        "    integer_encoded = integer_encoded.reshape(len(integer_encoded), 1)\n",
        "    onehot_encoded = onehot_encoder.fit_transform(integer_encoded)\n",
        "    onehot_encoded = np.delete(onehot_encoded, -1, 1)\n",
        "    return onehot_encoded"
      ],
      "execution_count": 15,
      "outputs": []
    },
    {
      "cell_type": "code",
      "metadata": {
        "colab": {
          "base_uri": "https://localhost:8080/"
        },
        "id": "89uxfwwIxJJY",
        "outputId": "874f548e-db43-4676-fd89-25d21f232361"
      },
      "source": [
        "one_hot_encoder(string_to_array(sample_seq))"
      ],
      "execution_count": 16,
      "outputs": [
        {
          "output_type": "execute_result",
          "data": {
            "text/plain": [
              "array([[1, 0, 0, 0],\n",
              "       [1, 0, 0, 0],\n",
              "       [0, 1, 0, 0],\n",
              "       [0, 0, 1, 0],\n",
              "       [0, 1, 0, 0],\n",
              "       [0, 0, 1, 0],\n",
              "       [0, 1, 0, 0],\n",
              "       [0, 0, 0, 1],\n",
              "       [0, 0, 0, 1],\n",
              "       [0, 0, 0, 0],\n",
              "       [0, 0, 0, 0]])"
            ]
          },
          "metadata": {
            "tags": []
          },
          "execution_count": 16
        }
      ]
    },
    {
      "cell_type": "markdown",
      "metadata": {
        "id": "9a9VYCZMxtCO"
      },
      "source": [
        "### 3. Treating DNA sequence as an \"language\", otherwise known as k-mer counting\n",
        "- Take the long biological sequence and break it down into k-mer length overlapping words.\n",
        "- Word length can be tuned to suit the particular situation. The word length and amount of overlap need to be determined impirically for any given application \n",
        "- Refer to these types of manipulations as 'k-mer counting'"
      ]
    },
    {
      "cell_type": "code",
      "metadata": {
        "id": "wbRYzK_pxNa3"
      },
      "source": [
        "def getKmers(sequence, size):\n",
        "  return [sequence[x:x+size].lower() for x in range(len(sequence) - size + 1)]"
      ],
      "execution_count": 17,
      "outputs": []
    },
    {
      "cell_type": "code",
      "metadata": {
        "colab": {
          "base_uri": "https://localhost:8080/"
        },
        "id": "mJft6bCRym5P",
        "outputId": "9ffa4751-af85-471e-c4de-5bf3595ea145"
      },
      "source": [
        "sample_seq = 'CATGGCCATCCCCCCCCGAGCGGGGGGGGGG'\n",
        "getKmers(sample_seq, size=6)"
      ],
      "execution_count": 19,
      "outputs": [
        {
          "output_type": "execute_result",
          "data": {
            "text/plain": [
              "['catggc',\n",
              " 'atggcc',\n",
              " 'tggcca',\n",
              " 'ggccat',\n",
              " 'gccatc',\n",
              " 'ccatcc',\n",
              " 'catccc',\n",
              " 'atcccc',\n",
              " 'tccccc',\n",
              " 'cccccc',\n",
              " 'cccccc',\n",
              " 'cccccc',\n",
              " 'cccccg',\n",
              " 'ccccga',\n",
              " 'cccgag',\n",
              " 'ccgagc',\n",
              " 'cgagcg',\n",
              " 'gagcgg',\n",
              " 'agcggg',\n",
              " 'gcgggg',\n",
              " 'cggggg',\n",
              " 'gggggg',\n",
              " 'gggggg',\n",
              " 'gggggg',\n",
              " 'gggggg',\n",
              " 'gggggg']"
            ]
          },
          "metadata": {
            "tags": []
          },
          "execution_count": 19
        }
      ]
    },
    {
      "cell_type": "markdown",
      "metadata": {
        "id": "sVTLVNkPywaV"
      },
      "source": [
        "The above function call returns a list of k-mer __words__. You can join the words into a sentence, then apply NLP methods on the sentences as you normally would.   \n",
        "- Can tune both the word length and the amount of overlap. This allows you to determine how sequence information and vocabulary size will be important in your application. \n",
        "- For example, if you use words of length 6, and there are 4 letters, you have a vocabulary of size 4096 possible words. You can go on and create a bag-of-words model in NLP."
      ]
    },
    {
      "cell_type": "code",
      "metadata": {
        "colab": {
          "base_uri": "https://localhost:8080/",
          "height": 54
        },
        "id": "5Tx9FiGiyq3D",
        "outputId": "e523a277-c464-4a72-b111-2cfb9ada1911"
      },
      "source": [
        "words = getKmers(sample_seq, size=6)\n",
        "sentence = ' '.join(words)\n",
        "sentence"
      ],
      "execution_count": 20,
      "outputs": [
        {
          "output_type": "execute_result",
          "data": {
            "application/vnd.google.colaboratory.intrinsic+json": {
              "type": "string"
            },
            "text/plain": [
              "'catggc atggcc tggcca ggccat gccatc ccatcc catccc atcccc tccccc cccccc cccccc cccccc cccccg ccccga cccgag ccgagc cgagcg gagcgg agcggg gcgggg cggggg gggggg gggggg gggggg gggggg gggggg'"
            ]
          },
          "metadata": {
            "tags": []
          },
          "execution_count": 20
        }
      ]
    },
    {
      "cell_type": "code",
      "metadata": {
        "id": "GGv4MhT8y_NP"
      },
      "source": [
        "seq1 = 'GATGGCCATCCCCGCCCGAGCGGGGGGGG'\n",
        "seq2 = 'CATGGCCATCCCCGCCCGAGCGGGCGGGG'\n",
        "sentence1 = ' '.join(getKmers(seq1, size=6))\n",
        "sentence2 = ' '.join(getKmers(seq2, size=6))"
      ],
      "execution_count": 21,
      "outputs": []
    },
    {
      "cell_type": "code",
      "metadata": {
        "id": "ZptlYkq-zqiQ"
      },
      "source": [
        "from sklearn.feature_extraction.text import CountVectorizer\n",
        "# bag of words model\n",
        "cv = CountVectorizer()\n",
        "X = cv.fit_transform([sentence, sentence1, sentence2]).toarray()"
      ],
      "execution_count": 23,
      "outputs": []
    },
    {
      "cell_type": "code",
      "metadata": {
        "colab": {
          "base_uri": "https://localhost:8080/"
        },
        "id": "INqvJsBUzt9S",
        "outputId": "8918ece9-1b00-4500-b75b-286f9ff0b72e"
      },
      "source": [
        "X"
      ],
      "execution_count": 24,
      "outputs": [
        {
          "output_type": "execute_result",
          "data": {
            "text/plain": [
              "array([[1, 1, 1, 1, 1, 1, 3, 1, 1, 0, 1, 0, 1, 0, 1, 0, 0, 1, 1, 0, 1, 0,\n",
              "        0, 1, 1, 0, 0, 5, 1, 0, 1],\n",
              "       [1, 1, 1, 1, 0, 1, 0, 0, 0, 1, 1, 1, 1, 1, 1, 1, 0, 1, 1, 1, 1, 1,\n",
              "        0, 1, 1, 0, 0, 3, 0, 1, 1],\n",
              "       [1, 1, 1, 1, 1, 1, 0, 0, 0, 1, 1, 1, 1, 1, 1, 1, 1, 0, 1, 0, 1, 1,\n",
              "        1, 1, 1, 1, 1, 0, 0, 1, 1]])"
            ]
          },
          "metadata": {
            "tags": []
          },
          "execution_count": 24
        }
      ]
    },
    {
      "cell_type": "code",
      "metadata": {
        "id": "lO1kN6lgz3p8"
      },
      "source": [
        ""
      ],
      "execution_count": null,
      "outputs": []
    }
  ]
}